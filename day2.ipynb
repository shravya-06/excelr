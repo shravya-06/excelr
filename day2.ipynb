{
  "nbformat": 4,
  "nbformat_minor": 0,
  "metadata": {
    "colab": {
      "provenance": [],
      "authorship_tag": "ABX9TyO2gioZlPKEX498+anxdnbu",
      "include_colab_link": true
    },
    "kernelspec": {
      "name": "python3",
      "display_name": "Python 3"
    },
    "language_info": {
      "name": "python"
    }
  },
  "cells": [
    {
      "cell_type": "markdown",
      "metadata": {
        "id": "view-in-github",
        "colab_type": "text"
      },
      "source": [
        "<a href=\"https://colab.research.google.com/github/shravya-06/excelr/blob/main/day2.ipynb\" target=\"_parent\"><img src=\"https://colab.research.google.com/assets/colab-badge.svg\" alt=\"Open In Colab\"/></a>"
      ]
    },
    {
      "cell_type": "code",
      "execution_count": 2,
      "metadata": {
        "colab": {
          "base_uri": "https://localhost:8080/"
        },
        "id": "at9T1zS9KZRC",
        "outputId": "298cb4c1-77fb-42b9-c122-85a4b92a88b3"
      },
      "outputs": [
        {
          "output_type": "stream",
          "name": "stdout",
          "text": [
            "List:\n",
            "Element at index 0: 10\n",
            "Element at index 2: 30\n",
            "Elements from index 1 to 3: [20, 30, 40]\n"
          ]
        }
      ],
      "source": [
        "# Create a list with 5 elements\n",
        "my_list = [10, 20, 30, 40, 50]\n",
        "\n",
        "# Access elements by index\n",
        "print(\"List:\")\n",
        "print(f\"Element at index 0: {my_list[0]}\")  # Accessing the first element\n",
        "print(f\"Element at index 2: {my_list[2]}\")  # Accessing the third element\n",
        "print(f\"Elements from index 1 to 3: {my_list[1:4]}\")  # Accessing a slice of elements"
      ]
    },
    {
      "cell_type": "code",
      "source": [
        "# Create a tuple with 5 elements\n",
        "my_tuple = (10, 20, 30, 40, 50)\n",
        "\n",
        "# Access elements by index\n",
        "print(\"\\nTuple:\")\n",
        "print(f\"Element at index 0: {my_tuple[0]}\")  # Accessing the first element\n",
        "print(f\"Element at index 2: {my_tuple[2]}\")  # Accessing the third element\n",
        "print(f\"Elements from index 1 to 3: {my_tuple[1:4]}\")  # Accessing a slice of elements"
      ],
      "metadata": {
        "colab": {
          "base_uri": "https://localhost:8080/"
        },
        "id": "GjtpNxv_LBy6",
        "outputId": "459a8368-702e-41d3-856e-e9b4fffe71c0"
      },
      "execution_count": 3,
      "outputs": [
        {
          "output_type": "stream",
          "name": "stdout",
          "text": [
            "\n",
            "Tuple:\n",
            "Element at index 0: 10\n",
            "Element at index 2: 30\n",
            "Elements from index 1 to 3: (20, 30, 40)\n"
          ]
        }
      ]
    },
    {
      "cell_type": "code",
      "source": [
        "# Create a dictionary with 5 elements\n",
        "my_dict = {\"name\": \"Alice\", \"age\": 30, \"city\": \"New York\", \"country\": \"USA\", \"occupation\": \"Engineer\"}\n",
        "\n",
        "# Access elements by key\n",
        "print(\"\\nDictionary:\")\n",
        "print(f\"Value for key 'name': {my_dict['name']}\")  # Accessing the value for key 'name'\n",
        "print(f\"Value for key 'age': {my_dict['age']}\")  # Accessing the value for key 'age'"
      ],
      "metadata": {
        "colab": {
          "base_uri": "https://localhost:8080/"
        },
        "id": "nnQO07yELB1N",
        "outputId": "0d2853a2-699b-4e4a-c1fe-a47117ca2b39"
      },
      "execution_count": 4,
      "outputs": [
        {
          "output_type": "stream",
          "name": "stdout",
          "text": [
            "\n",
            "Dictionary:\n",
            "Value for key 'name': Alice\n",
            "Value for key 'age': 30\n"
          ]
        }
      ]
    },
    {
      "cell_type": "code",
      "source": [],
      "metadata": {
        "id": "sd3ZnLkrLB3e"
      },
      "execution_count": null,
      "outputs": []
    },
    {
      "cell_type": "code",
      "source": [],
      "metadata": {
        "id": "Tk-jFgV6LB6-"
      },
      "execution_count": null,
      "outputs": []
    }
  ]
}