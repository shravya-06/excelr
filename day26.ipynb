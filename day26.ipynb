{
  "nbformat": 4,
  "nbformat_minor": 0,
  "metadata": {
    "colab": {
      "provenance": [],
      "authorship_tag": "ABX9TyPUCUL4DNovblIY43aZYKpv",
      "include_colab_link": true
    },
    "kernelspec": {
      "name": "python3",
      "display_name": "Python 3"
    },
    "language_info": {
      "name": "python"
    }
  },
  "cells": [
    {
      "cell_type": "markdown",
      "metadata": {
        "id": "view-in-github",
        "colab_type": "text"
      },
      "source": [
        "<a href=\"https://colab.research.google.com/github/shravya-06/excelr/blob/main/day26.ipynb\" target=\"_parent\"><img src=\"https://colab.research.google.com/assets/colab-badge.svg\" alt=\"Open In Colab\"/></a>"
      ]
    },
    {
      "cell_type": "code",
      "execution_count": 20,
      "metadata": {
        "id": "at9T1zS9KZRC"
      },
      "outputs": [],
      "source": []
    },
    {
      "cell_type": "code",
      "source": [],
      "metadata": {
        "id": "UM7t8l6TO3zd"
      },
      "execution_count": 30,
      "outputs": []
    },
    {
      "cell_type": "code",
      "source": [],
      "metadata": {
        "id": "GjtpNxv_LBy6"
      },
      "execution_count": 30,
      "outputs": []
    },
    {
      "cell_type": "code",
      "source": [
        "!pip install scikit-learn\n",
        "from sklearn.feature_extraction.text import TfidfVectorizer\n",
        "from sklearn.metrics.pairwise import cosine_similarity\n",
        "\n",
        "def calculate_cosine_similarity(text1, text2):\n",
        "    \"\"\"\n",
        "    Calculates the cosine similarity between two strings using TfidfVectorizer.\n",
        "\n",
        "    Args:\n",
        "        text1 (str): The first string.\n",
        "        text2 (str): The second string.\n",
        "\n",
        "    Returns:\n",
        "        float: The cosine similarity between the two strings.\n",
        "    \"\"\"\n",
        "    # Create a TfidfVectorizer object\n",
        "    vectorizer = TfidfVectorizer()\n",
        "\n",
        "    # Fit the vectorizer to the texts and transform them into vectors\n",
        "    tfidf_matrix = vectorizer.fit_transform([text1, text2])\n",
        "\n",
        "    # Calculate the cosine similarity between the vectors\n",
        "    similarity = cosine_similarity(tfidf_matrix[0], tfidf_matrix[1])\n",
        "\n",
        "    # Return the similarity score\n",
        "    return similarity[0][0]\n",
        "\n",
        "# Example usage:\n",
        "string1 = \"This is the first string.\"\n",
        "string2 = \"This is the second string.\"\n",
        "\n",
        "similarity_score = calculate_cosine_similarity(string1, string2)\n",
        "print(f\"Cosine Similarity: {similarity_score}\")"
      ],
      "metadata": {
        "colab": {
          "base_uri": "https://localhost:8080/"
        },
        "id": "GCJ8NfWnTo4R",
        "outputId": "1d2fbb35-6b3d-4421-e10d-2d2ee4da6a7d"
      },
      "execution_count": 31,
      "outputs": [
        {
          "output_type": "stream",
          "name": "stdout",
          "text": [
            "Requirement already satisfied: scikit-learn in /usr/local/lib/python3.11/dist-packages (1.6.1)\n",
            "Requirement already satisfied: numpy>=1.19.5 in /usr/local/lib/python3.11/dist-packages (from scikit-learn) (1.26.4)\n",
            "Requirement already satisfied: scipy>=1.6.0 in /usr/local/lib/python3.11/dist-packages (from scikit-learn) (1.13.1)\n",
            "Requirement already satisfied: joblib>=1.2.0 in /usr/local/lib/python3.11/dist-packages (from scikit-learn) (1.4.2)\n",
            "Requirement already satisfied: threadpoolctl>=3.1.0 in /usr/local/lib/python3.11/dist-packages (from scikit-learn) (3.5.0)\n",
            "Cosine Similarity: 0.6694188517266485\n"
          ]
        }
      ]
    },
    {
      "cell_type": "code",
      "source": [],
      "metadata": {
        "id": "-H4CUDEeTXIY"
      },
      "execution_count": null,
      "outputs": []
    },
    {
      "cell_type": "code",
      "source": [],
      "metadata": {
        "id": "nnQO07yELB1N"
      },
      "execution_count": 19,
      "outputs": []
    },
    {
      "cell_type": "code",
      "source": [],
      "metadata": {
        "id": "sd3ZnLkrLB3e"
      },
      "execution_count": null,
      "outputs": []
    },
    {
      "cell_type": "code",
      "source": [],
      "metadata": {
        "id": "Tk-jFgV6LB6-"
      },
      "execution_count": null,
      "outputs": []
    }
  ]
}