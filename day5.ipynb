{
  "nbformat": 4,
  "nbformat_minor": 0,
  "metadata": {
    "colab": {
      "provenance": [],
      "authorship_tag": "ABX9TyN5OGemx2C1G02n8YQpXsHg",
      "include_colab_link": true
    },
    "kernelspec": {
      "name": "python3",
      "display_name": "Python 3"
    },
    "language_info": {
      "name": "python"
    }
  },
  "cells": [
    {
      "cell_type": "markdown",
      "metadata": {
        "id": "view-in-github",
        "colab_type": "text"
      },
      "source": [
        "<a href=\"https://colab.research.google.com/github/shravya-06/excelr/blob/main/day5.ipynb\" target=\"_parent\"><img src=\"https://colab.research.google.com/assets/colab-badge.svg\" alt=\"Open In Colab\"/></a>"
      ]
    },
    {
      "cell_type": "code",
      "execution_count": 8,
      "metadata": {
        "colab": {
          "base_uri": "https://localhost:8080/"
        },
        "id": "at9T1zS9KZRC",
        "outputId": "a55bd7cd-517e-41bb-c216-500b32b433c2"
      },
      "outputs": [
        {
          "output_type": "stream",
          "name": "stdout",
          "text": [
            "Enter some text: tree\n",
            "tree: 1\n"
          ]
        }
      ],
      "source": [
        "from collections import Counter\n",
        "\n",
        "def word_frequency(text):\n",
        "    \"\"\"\n",
        "    Calculates the frequency of each word in a given text.\n",
        "\n",
        "    Args:\n",
        "        text: The input text.\n",
        "\n",
        "    Returns:\n",
        "        A dictionary where keys are words and values are their frequencies.\n",
        "    \"\"\"\n",
        "    words = text.lower().split()  # Convert to lowercase and split into words\n",
        "    word_counts = Counter(words)  # Count word frequencies using Counter\n",
        "    return word_counts\n",
        "\n",
        "# Get input text from the user\n",
        "text = input(\"Enter some text: \")\n",
        "\n",
        "# Calculate and print word frequencies\n",
        "word_counts = word_frequency(text)\n",
        "for word, count in word_counts.items():\n",
        "    print(f\"{word}: {count}\")"
      ]
    },
    {
      "cell_type": "code",
      "source": [],
      "metadata": {
        "id": "GjtpNxv_LBy6"
      },
      "execution_count": 6,
      "outputs": []
    },
    {
      "cell_type": "code",
      "source": [],
      "metadata": {
        "id": "nnQO07yELB1N"
      },
      "execution_count": 6,
      "outputs": []
    },
    {
      "cell_type": "code",
      "source": [],
      "metadata": {
        "id": "sd3ZnLkrLB3e"
      },
      "execution_count": null,
      "outputs": []
    },
    {
      "cell_type": "code",
      "source": [],
      "metadata": {
        "id": "Tk-jFgV6LB6-"
      },
      "execution_count": null,
      "outputs": []
    }
  ]
}