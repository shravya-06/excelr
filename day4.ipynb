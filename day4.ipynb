{
  "nbformat": 4,
  "nbformat_minor": 0,
  "metadata": {
    "colab": {
      "provenance": [],
      "authorship_tag": "ABX9TyPB4a282bZKRaqaOKrY9cD7",
      "include_colab_link": true
    },
    "kernelspec": {
      "name": "python3",
      "display_name": "Python 3"
    },
    "language_info": {
      "name": "python"
    }
  },
  "cells": [
    {
      "cell_type": "markdown",
      "metadata": {
        "id": "view-in-github",
        "colab_type": "text"
      },
      "source": [
        "<a href=\"https://colab.research.google.com/github/shravya-06/excelr/blob/main/day4.ipynb\" target=\"_parent\"><img src=\"https://colab.research.google.com/assets/colab-badge.svg\" alt=\"Open In Colab\"/></a>"
      ]
    },
    {
      "cell_type": "code",
      "execution_count": 7,
      "metadata": {
        "colab": {
          "base_uri": "https://localhost:8080/"
        },
        "id": "at9T1zS9KZRC",
        "outputId": "00ed8790-defb-4ead-b988-4615277e9418"
      },
      "outputs": [
        {
          "output_type": "stream",
          "name": "stdout",
          "text": [
            "Enter a positive integer: 6\n",
            "The sum of even numbers between 1 and 6 is: 12\n"
          ]
        }
      ],
      "source": [
        "def sum_of_even_numbers(n):\n",
        "    \"\"\"\n",
        "    Calculates the sum of all even numbers between 1 and n.\n",
        "\n",
        "    Args:\n",
        "        n: The upper limit (inclusive).\n",
        "\n",
        "    Returns:\n",
        "        The sum of even numbers.\n",
        "    \"\"\"\n",
        "    total_sum = 0\n",
        "    for i in range(2, n + 1, 2):  # Iterate through even numbers from 2 to n\n",
        "        total_sum += i\n",
        "    return total_sum\n",
        "\n",
        "# Get input from the user\n",
        "n = int(input(\"Enter a positive integer: \"))\n",
        "\n",
        "# Calculate and print the sum of even numbers\n",
        "result = sum_of_even_numbers(n)\n",
        "print(f\"The sum of even numbers between 1 and {n} is: {result}\")"
      ]
    },
    {
      "cell_type": "code",
      "source": [],
      "metadata": {
        "id": "GjtpNxv_LBy6"
      },
      "execution_count": 6,
      "outputs": []
    },
    {
      "cell_type": "code",
      "source": [],
      "metadata": {
        "id": "nnQO07yELB1N"
      },
      "execution_count": 6,
      "outputs": []
    },
    {
      "cell_type": "code",
      "source": [],
      "metadata": {
        "id": "sd3ZnLkrLB3e"
      },
      "execution_count": null,
      "outputs": []
    },
    {
      "cell_type": "code",
      "source": [],
      "metadata": {
        "id": "Tk-jFgV6LB6-"
      },
      "execution_count": null,
      "outputs": []
    }
  ]
}