{
  "nbformat": 4,
  "nbformat_minor": 0,
  "metadata": {
    "colab": {
      "provenance": [],
      "authorship_tag": "ABX9TyMDCW1kPMZ4vFM7cE5He1sM",
      "include_colab_link": true
    },
    "kernelspec": {
      "name": "python3",
      "display_name": "Python 3"
    },
    "language_info": {
      "name": "python"
    }
  },
  "cells": [
    {
      "cell_type": "markdown",
      "metadata": {
        "id": "view-in-github",
        "colab_type": "text"
      },
      "source": [
        "<a href=\"https://colab.research.google.com/github/shravya-06/excelr/blob/main/day1.ipynb\" target=\"_parent\"><img src=\"https://colab.research.google.com/assets/colab-badge.svg\" alt=\"Open In Colab\"/></a>"
      ]
    },
    {
      "cell_type": "code",
      "execution_count": 1,
      "metadata": {
        "colab": {
          "base_uri": "https://localhost:8080/"
        },
        "id": "at9T1zS9KZRC",
        "outputId": "7d275dd8-90cb-4aed-f301-10b45104c403"
      },
      "outputs": [
        {
          "output_type": "stream",
          "name": "stdout",
          "text": [
            "integer_variable=10, type(integer_variable)=<class 'int'>\n",
            "float_variable=3.14, type(float_variable)=<class 'float'>\n",
            "string_variable='Hello, world!', type(string_variable)=<class 'str'>\n",
            "boolean_variable=True, type(boolean_variable)=<class 'bool'>\n"
          ]
        }
      ],
      "source": [
        "# Declare variables of different data types\n",
        "integer_variable = 10\n",
        "float_variable = 3.14\n",
        "string_variable = \"Hello, world!\"\n",
        "boolean_variable = True\n",
        "\n",
        "# Print each variable and its type\n",
        "print(f\"{integer_variable=}, {type(integer_variable)=}\")\n",
        "print(f\"{float_variable=}, {type(float_variable)=}\")\n",
        "print(f\"{string_variable=}, {type(string_variable)=}\")\n",
        "print(f\"{boolean_variable=}, {type(boolean_variable)=}\")"
      ]
    }
  ]
}